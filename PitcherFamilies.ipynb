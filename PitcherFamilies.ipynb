{
 "cells": [
  {
   "cell_type": "code",
   "execution_count": null,
   "metadata": {},
   "outputs": [],
   "source": [
    "%load_ext autoreload\n",
    "%autoreload 2\n",
    "from pybaseball import statcast, pitching_stats\n",
    "import datetime as dt\n",
    "import warnings\n",
    "warnings.filterwarnings('ignore')\n",
    "import numpy as np\n",
    "import pandas as pd\n",
    "pd.set_option('display.max_columns', 500)\n",
    "from collections import Counter\n",
    "from sklearn.preprocessing import StandardScaler, MinMaxScaler, OneHotEncoder\n",
    "from sklearn.decomposition import PCA\n",
    "from sklearn.cluster import KMeans, DBSCAN\n",
    "from sklearn.model_selection import train_test_split, GridSearchCV\n",
    "from sklearn.metrics import accuracy_score, confusion_matrix\n",
    "from xgboost import XGBClassifier\n",
    "import matplotlib.pyplot as plt\n",
    "from matplotlib import patches\n",
    "%matplotlib inline\n",
    "\n",
    "# use Statcast data (from 2015-2018) so we can get spin rate, etc.\n",
    "train_data_dates = [('2015-04-05', '2015-10-04'),      # 2015 data\n",
    "                    ('2016-04-03', '2016-10-02'),       # 2016 data\n",
    "                    ('2017-04-02', '2017-10-01'),       # 2017 data\n",
    "                    ('2018-03-29', '2018-10-01')]       # 2018 data"
   ]
  },
  {
   "cell_type": "markdown",
   "metadata": {},
   "source": [
    "### Get the Outcome Style Data (Groundball/flyball rates, strike percentages, whiff rates, etc.)"
   ]
  },
  {
   "cell_type": "code",
   "execution_count": null,
   "metadata": {},
   "outputs": [],
   "source": [
    "# scrape the data from baseball savant\n",
    "#pitcher_season_stats = pitching_stats(2018)\n",
    "pitcher_season_stats = pd.read_csv(\"/Users/chrisjackson/sports/baseball/data/overall_data_2018.csv\")\n",
    "\n",
    "# select the features that we want to use to categorize the pitchers... questions we want to answer:\n",
    "#   - are they strike throwers?\n",
    "#   - do they allow a lot of baserunners? \n",
    "#   - groundball or flyball pitcher?\n",
    "#   - are they swing and miss guys (inside and outside of the zone)?\n",
    "cols_to_keep = ['Name', 'Strikes', 'Pitches', \n",
    "                'K/9', 'BB/9',  'H/9', 'HR/9',\n",
    "                'GB/FB', 'LD%', 'GB%', \n",
    "                'O-Swing%', 'Z-Swing%', 'Swing%', \n",
    "                'O-Contact%', 'Z-Contact%', 'Contact%', \n",
    "                'Zone%', 'F-Strike%', 'SwStr%']\n",
    "pitcher_season_stats = pitcher_season_stats[cols_to_keep]\n",
    "\n",
    "# keep only pitchers with at least 500 pitches in a season... try to weed out the noise, but keep short relievers\n",
    "pitcher_season_stats = pitcher_season_stats[pitcher_season_stats['Pitches'] >= 500]\n",
    "\n",
    "# compute the percentage of pitches that are strikes\n",
    "pitcher_season_stats['Strike Pct'] = pitcher_season_stats['Strikes'] / pitcher_season_stats['Pitches']\n",
    "pitcher_season_stats.drop(['Strikes', 'Pitches'], axis=1, inplace=True)\n",
    "\n",
    "# use the GB/FB ratio to compute the OF flyball pct\n",
    "pitcher_season_stats['Flyball%'] = (pitcher_season_stats['GB%'] / pitcher_season_stats['GB/FB'])\n",
    "\n",
    "# drop the GB/FB ratio\n",
    "pitcher_season_stats.drop(['GB/FB'], axis=1, inplace=True)\n",
    "\n",
    "# rename the Name column so we can merge on it later... and the hit ball types to make them more readable\n",
    "pitcher_season_stats.rename(columns={'Name': 'player_name',\n",
    "                                     'GB%': 'Groundball%',\n",
    "                                     'LD%': 'Linedrive%'}, inplace=True)\n",
    "\n",
    "# reorder the columns\n",
    "pitcher_season_stats = pitcher_season_stats[[\n",
    "    'player_name', 'Strike Pct', 'K/9', 'BB/9', 'H/9', 'HR/9', \n",
    "    'Linedrive%', 'Groundball%', 'Flyball%', \n",
    "    'O-Swing%', 'Z-Swing%', 'Swing%', \n",
    "    'O-Contact%', 'Z-Contact%', 'Contact%', \n",
    "    'Zone%', 'F-Strike%', 'SwStr%', \n",
    "       ]]\n",
    "\n",
    "print(f\"Number of features: {pitcher_season_stats.shape[1]-1}\")\n",
    "pitcher_season_stats.head()"
   ]
  },
  {
   "cell_type": "markdown",
   "metadata": {},
   "source": [
    "### Get the Descriptive Statistics for Each Column"
   ]
  },
  {
   "cell_type": "code",
   "execution_count": null,
   "metadata": {},
   "outputs": [],
   "source": [
    "pitcher_season_stats.describe()"
   ]
  },
  {
   "cell_type": "markdown",
   "metadata": {},
   "source": [
    "### Get the Pitch-by-Pitch Data"
   ]
  },
  {
   "cell_type": "code",
   "execution_count": null,
   "metadata": {},
   "outputs": [],
   "source": [
    "# get the data from baseball savant\n",
    "#pitch_by_pitch_data = statcast(start_dt='2018-03-29', end_dt='2018-10-01')\n",
    "pitch_by_pitch_data = pd.read_csv(\"/Users/chrisjackson/sports/baseball/data/pitch_data_2018.csv\")\n",
    "\n",
    "# choose the columns we want to use for identifying Families\n",
    "cols_to_keep = ['pitcher', 'player_name', 'p_throws', 'pitch_type', \n",
    "                'release_speed', 'release_pos_x', 'release_pos_z', 'release_spin_rate', \n",
    "                'pfx_x', 'pfx_z'] #, 'plate_x', 'plate_z']\n",
    "pitch_by_pitch_data = pitch_by_pitch_data[cols_to_keep]\n",
    "\n",
    "# make sure pitcher ID's are ints\n",
    "pitch_by_pitch_data['pitcher'] = pitch_by_pitch_data['pitcher'].astype(int)\n",
    "\n",
    "pitch_by_pitch_data.head()"
   ]
  },
  {
   "cell_type": "markdown",
   "metadata": {},
   "source": [
    "### Categorize Pitches as Fastball, Breaking Pitch or Off-Speed Pitch "
   ]
  },
  {
   "cell_type": "code",
   "execution_count": null,
   "metadata": {},
   "outputs": [],
   "source": [
    "# group the various pitch types into three types (fastball=FB, breaking=BR and off-speed=OS)\n",
    "fastball_pitches = ['FC', 'FF', 'FA', 'FT', 'SI']\n",
    "breaking_pitches = ['CU', 'KC', 'KN', 'SC', 'SL', 'GY']\n",
    "offspeed_pitches = ['CH', 'EP', 'FO', 'FS']\n",
    "\n",
    "# pitches to drop (pitch outs, intentional balls, uncategorized)\n",
    "dropped_pitches = ['AB', 'AS', 'IN', 'NP', 'PO', 'UN']\n",
    "\n",
    "# categorize pitches\n",
    "def categorize_pitches(x):\n",
    "    if x in fastball_pitches:\n",
    "        return 'FB'\n",
    "    elif x in breaking_pitches:\n",
    "        return 'BR'\n",
    "    elif x in offspeed_pitches:\n",
    "        return 'OS'\n",
    "    else:\n",
    "        return x\n",
    "pitch_by_pitch_data['pitch_type'] = pitch_by_pitch_data['pitch_type'].apply(categorize_pitches)\n",
    "\n",
    "# drop any rows with non-pitch pitches\n",
    "pitch_by_pitch_data = pitch_by_pitch_data[~pitch_by_pitch_data['pitch_type'].isin(dropped_pitches)]\n",
    "\n",
    "# drop any rows with NaN for pitch type\n",
    "pitch_by_pitch_data = pitch_by_pitch_data[pd.notnull(pitch_by_pitch_data['pitch_type'])]\n",
    "\n",
    "# print out the breakdown of categorized pitch types\n",
    "pitch_counts = Counter(pitch_by_pitch_data['pitch_type'])\n",
    "print(pitch_counts)\n",
    "print()\n",
    "pitch_by_pitch_data.head()"
   ]
  },
  {
   "cell_type": "markdown",
   "metadata": {},
   "source": [
    "### Compute Average Speed, Movement, Spin Rate and Location for Each Pitch Type (FB, BR and OS)"
   ]
  },
  {
   "cell_type": "code",
   "execution_count": null,
   "metadata": {},
   "outputs": [],
   "source": [
    "# build a list of pitcher IDs\n",
    "pitcher_list = list(set(pitch_by_pitch_data['pitcher'].tolist()))\n",
    "print(f\"{len(pitcher_list)} pitchers in the data.\")\n",
    "\n",
    "# initiate a dataframe to hold the data\n",
    "pitcher_pitch_avgs_df = pd.DataFrame()\n",
    "\n",
    "# loop thru pitchers in the list and construct their personal DF\n",
    "for pitcher in pitcher_list:\n",
    "    \n",
    "    # select pitches thrown by pitcher\n",
    "    pitcher_df = pitch_by_pitch_data[pitch_by_pitch_data['pitcher'] == pitcher]\n",
    "    total_num_pitches = len(pitcher_df)\n",
    "\n",
    "    # loop thru the pitch types\n",
    "    pitch_types = ['FB', 'BR', 'OS']\n",
    "    pitch_type_avgs = []\n",
    "    for pitch_type in pitch_types:\n",
    "\n",
    "        # select the pitches thrown by pitcher by type\n",
    "        pitcher_pitch_df = pitcher_df[pitcher_df['pitch_type'] == pitch_type]\n",
    "        num_pitches = len(pitcher_pitch_df)\n",
    "\n",
    "        # groupby player name/throws/pitch_type and compute mean of remaining features\n",
    "        pitcher_pitch_df = pd.DataFrame(pitcher_pitch_df.groupby(['pitcher', 'player_name', 'p_throws', 'pitch_type']).mean())\n",
    "        \n",
    "        # rename columns to have pitch type in name\n",
    "        pitcher_pitch_df.columns = [pitch_type + ' ' + x for x in pitcher_pitch_df.columns.tolist()]\n",
    "\n",
    "        pitcher_pitch_df.reset_index(inplace=True, drop=False)\n",
    "        \n",
    "        # compute the percentage of pitches thrown that are of pitch_type\n",
    "        pitcher_pitch_df[pitch_type+'%'] = num_pitches / total_num_pitches\n",
    "\n",
    "        pitcher_pitch_df.drop('pitch_type', axis=1, inplace=True)\n",
    "\n",
    "        pitcher_pitch_df.set_index(['pitcher', 'player_name', 'p_throws'], inplace=True)\n",
    "\n",
    "        # append pitch type dataframe to pitcher's dataframe\n",
    "        pitch_type_avgs.append(pitcher_pitch_df)\n",
    "\n",
    "    # append pitcher's dataframe to all-pitchers dataframe\n",
    "    pitcher_pitch_avgs_df = pitcher_pitch_avgs_df.append(pd.concat(pitch_type_avgs, axis=1, join='inner'))\n",
    "\n",
    "pitcher_pitch_avgs_df.reset_index(inplace=True, drop=False)\n",
    "\n",
    "pitcher_pitch_avgs_df.head()"
   ]
  },
  {
   "cell_type": "markdown",
   "metadata": {},
   "source": [
    "### convert release position x, z coordinates into an \"arm slot angle\" (measured from vertical)"
   ]
  },
  {
   "cell_type": "code",
   "execution_count": null,
   "metadata": {},
   "outputs": [],
   "source": [
    "pitcher_pitch_avgs_df['FB arm_angle'] = np.abs((180 / 3.14) * np.arctan(pitcher_pitch_avgs_df['FB release_pos_x'] / pitcher_pitch_avgs_df['FB release_pos_z']))\n",
    "pitcher_pitch_avgs_df['BR arm_angle'] = np.abs((180 / 3.14) * np.arctan(pitcher_pitch_avgs_df['BR release_pos_x'] / pitcher_pitch_avgs_df['BR release_pos_z']))\n",
    "pitcher_pitch_avgs_df['OS arm_angle'] = np.abs((180 / 3.14) * np.arctan(pitcher_pitch_avgs_df['OS release_pos_x'] / pitcher_pitch_avgs_df['OS release_pos_z']))\n",
    "pitcher_pitch_avgs_df.drop(['FB release_pos_x', 'FB release_pos_z', 'BR release_pos_x', 'BR release_pos_z', 'OS release_pos_x', 'OS release_pos_z'], axis=1, inplace=True)\n",
    "\n",
    "pitcher_pitch_avgs_df.head()"
   ]
  },
  {
   "cell_type": "markdown",
   "metadata": {},
   "source": [
    "### Compute the Percent Difference Between OS and FB Speeds"
   ]
  },
  {
   "cell_type": "code",
   "execution_count": null,
   "metadata": {},
   "outputs": [],
   "source": [
    "pitcher_pitch_avgs_df['OS_FB_Diff'] = (pitcher_pitch_avgs_df['OS release_speed'] - pitcher_pitch_avgs_df['FB release_speed']) / (pitcher_pitch_avgs_df['FB release_speed'])\n",
    "\n",
    "pitcher_pitch_avgs_df.head()"
   ]
  },
  {
   "cell_type": "markdown",
   "metadata": {},
   "source": [
    "### Merge the Outcome Style Data with the Pitch Characteristic Data"
   ]
  },
  {
   "cell_type": "code",
   "execution_count": null,
   "metadata": {},
   "outputs": [],
   "source": [
    "pitcher_data = pd.merge(pitcher_pitch_avgs_df, pitcher_season_stats, how='inner', on='player_name')\n",
    "\n",
    "print(f\"Shape of the final training data: {pitcher_data.shape}\")\n",
    "pitcher_data.head()"
   ]
  },
  {
   "cell_type": "markdown",
   "metadata": {},
   "source": [
    "### Split Into Two Groups: Lefties and Righties"
   ]
  },
  {
   "cell_type": "code",
   "execution_count": null,
   "metadata": {},
   "outputs": [],
   "source": [
    "lh_pitcher_data = pitcher_data[pitcher_data['p_throws'] == 'L']\n",
    "print(f\"Number of LH pitchers: {lh_pitcher_data.shape[0]}\")\n",
    "\n",
    "rh_pitcher_data = pitcher_data[pitcher_data['p_throws'] == 'R']\n",
    "print(f\"Number of RH pitchers: {rh_pitcher_data.shape[0]}\")"
   ]
  },
  {
   "cell_type": "markdown",
   "metadata": {},
   "source": [
    "## Rescaling, PCA and Clustering "
   ]
  },
  {
   "cell_type": "markdown",
   "metadata": {},
   "source": [
    "### Helper functions: Rescale the Data, Perform PCA and Find Number of Dimensions to Explain 98% of the Variance, Plot the clusters, etc."
   ]
  },
  {
   "cell_type": "code",
   "execution_count": null,
   "metadata": {},
   "outputs": [],
   "source": [
    "# custom scatter plot function which allows for markers to take a list\n",
    "def mscatter(x,y, ax=None, m=None, **kw):\n",
    "    import matplotlib.markers as mmarkers\n",
    "    ax = ax or plt.gca()\n",
    "    sc = ax.scatter(x,y,**kw)\n",
    "    if (m is not None) and (len(m)==len(x)):\n",
    "        paths = []\n",
    "        for marker in m:\n",
    "            if isinstance(marker, mmarkers.MarkerStyle):\n",
    "                marker_obj = marker\n",
    "            else:\n",
    "                marker_obj = mmarkers.MarkerStyle(marker)\n",
    "            path = marker_obj.get_path().transformed(\n",
    "                        marker_obj.get_transform())\n",
    "            paths.append(path)\n",
    "        sc.set_paths(paths)\n",
    "    return sc\n",
    "\n",
    "# perform k-means clustering and use the Gap Statistic to find optimal k\n",
    "def optimalK(data, nrefs=3, maxClusters=10):\n",
    "    \"\"\"\n",
    "    Calculates KMeans optimal K using Gap Statistic from Tibshirani, Walther, Hastie\n",
    "    Params:\n",
    "        data: ndarry of shape (n_samples, n_features)\n",
    "        nrefs: number of sample reference datasets to create\n",
    "        maxClusters: Maximum number of clusters to test for\n",
    "    Returns: (gaps, optimalK)\n",
    "    \"\"\"\n",
    "    gaps = np.zeros((len(range(1, maxClusters)),))\n",
    "    resultsdf = pd.DataFrame({'clusterCount':[], 'gap':[]})\n",
    "    for gap_index, k in enumerate(range(1, maxClusters)):\n",
    "\n",
    "        # Holder for reference dispersion results\n",
    "        refDisps = np.zeros(nrefs)\n",
    "\n",
    "        # For n references, generate random sample and perform kmeans getting resulting dispersion of each loop\n",
    "        for i in range(nrefs):\n",
    "\n",
    "            # Create new random reference set\n",
    "            randomReference = np.random.random_sample(size=data.shape)\n",
    "\n",
    "            # Fit to it\n",
    "            km = KMeans(k, n_jobs=-1)\n",
    "            km.fit(randomReference)\n",
    "\n",
    "            refDisp = km.inertia_\n",
    "            refDisps[i] = refDisp\n",
    "\n",
    "        # Fit cluster to original data and create dispersion\n",
    "        km = KMeans(k)\n",
    "        km.fit(data)\n",
    "\n",
    "        origDisp = km.inertia_\n",
    "\n",
    "        # Calculate gap statistic\n",
    "        gap = np.log(np.mean(refDisps)) - np.log(origDisp)\n",
    "\n",
    "        # Assign this loop's gap statistic to gaps\n",
    "        gaps[gap_index] = gap\n",
    "\n",
    "        resultsdf = resultsdf.append({'clusterCount':k, 'gap':gap}, ignore_index=True)\n",
    "\n",
    "    return (gaps.argmax() + 1, resultsdf)  # Plus 1 because index of 0 means 1 cluster is optimal, index 2 = 3 clusters are optimal\n",
    "\n",
    "\n",
    "\n",
    "def perform_pca_clustering(data):\n",
    "\n",
    "    data.reset_index(inplace=True, drop=True)\n",
    "\n",
    "    # keep pitcher ID and name\n",
    "    data_ID_name = data[['pitcher', 'player_name']]\n",
    "\n",
    "    # data for clustering\n",
    "    data_clustering = data.drop(['pitcher', 'player_name', 'p_throws'], axis=1)\n",
    "    print(f\"Number of original dimensions: {data_clustering.shape[1]}\")\n",
    "\n",
    "    # rescale \n",
    "    scaler = MinMaxScaler()\n",
    "    data_clustering_scaled = pd.DataFrame(scaler.fit_transform(data_clustering))\n",
    "\n",
    "    # find the minimal number of dimensions that captures 98% of the variance\n",
    "    # fitting the PCA algorithm with our Data\n",
    "    pca = PCA().fit(data_clustering_scaled)\n",
    "\n",
    "    # the cumulative explained variance\n",
    "    exp_var_ratio = list(np.cumsum(pca.explained_variance_ratio_))\n",
    "\n",
    "    # use the number of dimensions that get us to 98% explained variance\n",
    "    exp_var_threshold = 0.98\n",
    "    for i, ev in enumerate(exp_var_ratio):\n",
    "        if ev > exp_var_threshold:\n",
    "            num_components = i\n",
    "            break\n",
    "        else:\n",
    "            num_components = len(data_clustering_scaled.columns)\n",
    "\n",
    "    print(f\"{num_components} are required to explain 98% of the variance.\")\n",
    "    \n",
    "    # perform PCA with computed number of dimensions\n",
    "    pca = PCA(n_components=num_components)\n",
    "    data_clustering_pca = pd.DataFrame(pca.fit_transform(data_clustering_scaled))\n",
    "\n",
    "    # find the optimal k\n",
    "    k, _ = optimalK(data_clustering_pca)\n",
    "    print(f\"Optimal k: {k}\")\n",
    "\n",
    "    # perform K-Means clustering with computed number of clusters\n",
    "    kmeans = KMeans(n_clusters=k)\n",
    "    kmeans.fit_transform(data_clustering_pca)\n",
    "    labels = pd.DataFrame(kmeans.labels_)\n",
    "    labels.rename(columns={0: 'Cluster_Number'}, inplace=True)\n",
    "\n",
    "    # put the original data back together with a new column for the cluster number label\n",
    "    pitchers_clusters = pd.concat([data_ID_name, labels, data_clustering], axis=1, join='inner')\n",
    "    \n",
    "    # re-do the analysis for visualization purposes\n",
    "    # perform PCA with only 2dimensions\n",
    "    pca = PCA(n_components=2)\n",
    "    data_clustering_pca = pd.DataFrame(pca.fit_transform(data_clustering_scaled))\n",
    "\n",
    "    kmeans = KMeans(n_clusters=k).fit(data_clustering_pca)\n",
    "\n",
    "    labels = kmeans.labels_\n",
    "    # map cluster number to marker \n",
    "    marker_map = {0: 'o', 1: 'v', 2: '^', 3: '>', 4: '<', 5: '8', 6: 's', 7: 'p',\n",
    "                  8: 'P', 9: '*', 10: 'D', 11: 'X', 12: 'h', 13: 'H'}\n",
    "    labels = [marker_map[x] for x in labels]\n",
    "\n",
    "    data_clustering_pca['cluster_number'] = kmeans.predict(data_clustering_pca)\n",
    "\n",
    "    data_clustering_pca['cluster_number'] = data_clustering_pca['cluster_number'].apply(lambda x: marker_map[x])\n",
    "    \n",
    "    data_cluster_w_name = pd.merge(data_ID_name, data_clustering_pca, left_index=True, right_index=True)\n",
    "    print(data_cluster_w_name.head())\n",
    "        \n",
    "    fig = plt.figure(figsize=(8,8))\n",
    "    ax = fig.add_subplot(111)\n",
    "    ax2 = mscatter(data_clustering_pca.iloc[:, 0], data_clustering_pca.iloc[:, 1], ax=ax, m=labels, c=kmeans.labels_, s=80)\n",
    "#    ax2 = plt.scatter(data_clustering_pca.iloc[:, 0], data_clustering_pca.iloc[:, 1], c=kmeans.labels_, s=80)\n",
    "#    plt.legend(loc='best')\n",
    "    \n",
    "    return k, pitchers_clusters, ax2"
   ]
  },
  {
   "cell_type": "markdown",
   "metadata": {},
   "source": [
    "### Analysis for Lefties"
   ]
  },
  {
   "cell_type": "code",
   "execution_count": null,
   "metadata": {},
   "outputs": [],
   "source": [
    "lh_k, lh_pitchers_clusters, ax = perform_pca_clustering(lh_pitcher_data)\n",
    "plt.title(f\"Left-Handed Pitchers K-Means Clustering (k = {lh_k})\")\n",
    "plt.show()"
   ]
  },
  {
   "cell_type": "markdown",
   "metadata": {},
   "source": [
    "### Analysis for Righties "
   ]
  },
  {
   "cell_type": "code",
   "execution_count": null,
   "metadata": {},
   "outputs": [],
   "source": [
    "rh_k, rh_pitchers_clusters, ax = perform_pca_clustering(rh_pitcher_data)\n",
    "plt.title(f\"Right-Handed Pitchers K-Means Clustering (k = {rh_k})\")\n",
    "plt.show()"
   ]
  },
  {
   "cell_type": "markdown",
   "metadata": {},
   "source": [
    "## Qualitative Analysis of the Clusters"
   ]
  },
  {
   "cell_type": "markdown",
   "metadata": {},
   "source": [
    "### Left-Handed Pitchers"
   ]
  },
  {
   "cell_type": "code",
   "execution_count": null,
   "metadata": {},
   "outputs": [],
   "source": [
    "def get_group_box_plot(df, k, feat_name):\n",
    "    feat_list = []\n",
    "    for i in range(k):\n",
    "        k_df = df[df['Cluster_Number'] == i]\n",
    "        feat = k_df[feat_name].tolist()\n",
    "        feat_list.append(feat)\n",
    "    feat_avg = df[feat_name].mean()\n",
    "    feat_std = df[feat_name].std()\n",
    "\n",
    "    plt.boxplot(feat_list)\n",
    "    plt.plot([1, k+1], [feat_avg+feat_std, feat_avg+feat_std], 'k--')\n",
    "    plt.plot([1, k+1], [feat_avg, feat_avg], 'k--')\n",
    "    plt.plot([1, k+1], [feat_avg-feat_std, feat_avg-feat_std], 'k--')\n",
    "    plt.title(feat_name)\n",
    "    plt.xlabel('Cluster Number')\n",
    "    plt.show()"
   ]
  },
  {
   "cell_type": "markdown",
   "metadata": {},
   "source": [
    "#### Feature Distributions for Each Cluster\n",
    "\n",
    "The horizontal dashed lines represent the mean for all left-handers (and the 1 sigma bounds)"
   ]
  },
  {
   "cell_type": "code",
   "execution_count": null,
   "metadata": {},
   "outputs": [],
   "source": [
    "for col in lh_pitchers_clusters.columns.tolist()[3:]:\n",
    "    get_group_box_plot(lh_pitchers_clusters, lh_k, col)"
   ]
  },
  {
   "cell_type": "markdown",
   "metadata": {},
   "source": [
    "#### Looks like Cluster 12 is Made up of Hard-Throwing Swing & Miss guys"
   ]
  },
  {
   "cell_type": "code",
   "execution_count": null,
   "metadata": {},
   "outputs": [],
   "source": [
    "lh_pitchers_clusters[lh_pitchers_clusters['Cluster_Number'] == 11]"
   ]
  },
  {
   "cell_type": "markdown",
   "metadata": {},
   "source": [
    "### Right-Handed Pitchers"
   ]
  },
  {
   "cell_type": "code",
   "execution_count": null,
   "metadata": {},
   "outputs": [],
   "source": [
    "for col in rh_pitchers_clusters.columns.tolist()[3:]:\n",
    "    get_group_box_plot(rh_pitchers_clusters, rh_k, col)"
   ]
  },
  {
   "cell_type": "code",
   "execution_count": null,
   "metadata": {},
   "outputs": [],
   "source": [
    "rh_pitchers_clusters[rh_pitchers_clusters['Cluster_Number'] == 10]"
   ]
  },
  {
   "cell_type": "code",
   "execution_count": null,
   "metadata": {},
   "outputs": [],
   "source": []
  }
 ],
 "metadata": {
  "kernelspec": {
   "display_name": "Python 3",
   "language": "python",
   "name": "python3"
  },
  "language_info": {
   "codemirror_mode": {
    "name": "ipython",
    "version": 3
   },
   "file_extension": ".py",
   "mimetype": "text/x-python",
   "name": "python",
   "nbconvert_exporter": "python",
   "pygments_lexer": "ipython3",
   "version": "3.7.0"
  }
 },
 "nbformat": 4,
 "nbformat_minor": 2
}
